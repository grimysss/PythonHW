{
 "cells": [
  {
   "cell_type": "code",
   "execution_count": 1,
   "metadata": {},
   "outputs": [],
   "source": [
    "import matplotlib as mpl\n",
    "import matplotlib.pyplot as plt\n",
    "import pandas as pd\n",
    "import numpy as np\n",
    "import math\n",
    "import timeit"
   ]
  },
  {
   "cell_type": "code",
   "execution_count": 2,
   "metadata": {},
   "outputs": [],
   "source": [
    "%matplotlib inline"
   ]
  },
  {
   "cell_type": "code",
   "execution_count": 3,
   "metadata": {},
   "outputs": [],
   "source": [
    "# Создаем по 10 случайных значений\n",
    "\n",
    "x10 = np.random.randn(10)\n",
    "y10 = np.random.randn(10)"
   ]
  },
  {
   "cell_type": "code",
   "execution_count": 4,
   "metadata": {},
   "outputs": [],
   "source": [
    "# Создаем функцию для подсчета наивного скалярного произведения векторов\n",
    "\n",
    "\n",
    "def naive_vector_dot(x10, y10):\n",
    "    assert len(x10.shape) == 1\n",
    "    assert len(y10.shape) == 1\n",
    "    result = 0\n",
    "    for e, f in zip(x10, y10):\n",
    "        result += e*f\n",
    "    return result"
   ]
  },
  {
   "cell_type": "code",
   "execution_count": 5,
   "metadata": {},
   "outputs": [],
   "source": [
    "# Создаем функцию для подсчет скалярного произведения векторов через NumPy\n",
    "\n",
    "\n",
    "def vector_numpy(x10, y10):\n",
    "    assert len(x10.shape) == 1\n",
    "    assert len(y10.shape) == 1\n",
    "    return np.dot(x10, y10)"
   ]
  },
  {
   "cell_type": "code",
   "execution_count": 6,
   "metadata": {},
   "outputs": [
    {
     "name": "stdout",
     "output_type": "stream",
     "text": [
      "0.0005809000000001063\n"
     ]
    }
   ],
   "source": [
    "# Подсчитываем скорость выполнения расчетов для наивного скалярного произведения векторов\n",
    "\n",
    "timePythonTen = timeit.timeit('''def naive_vector_dot(x10,y10):\n",
    "    assert len(x10.shape) == 1\n",
    "    assert len(y10.shape) == 1\n",
    "    result = 0\n",
    "    for e,f in zip(x10,y10):\n",
    "        result += e*f\n",
    "    return result''', number=10000)\n",
    "print(timePythonTen)"
   ]
  },
  {
   "cell_type": "code",
   "execution_count": 7,
   "metadata": {},
   "outputs": [
    {
     "name": "stdout",
     "output_type": "stream",
     "text": [
      "0.0006344000000000349\n"
     ]
    }
   ],
   "source": [
    "# Подсчитываем скорость выполнения расчетов для скалярного произведения векторов через NumPy\n",
    "\n",
    "timeNumPyTen = timeit.timeit('''def vector_numpy(x10,y10):\n",
    "    assert len(x10.shape) == 1\n",
    "    assert len(y10.shape) == 1\n",
    "    return np.dot(x10,y10)''', number=10000)\n",
    "print(timeNumPyTen)"
   ]
  },
  {
   "cell_type": "code",
   "execution_count": 8,
   "metadata": {},
   "outputs": [],
   "source": [
    "# Создаем по 50 случайных значений\n",
    "\n",
    "x50 = np.random.randn(50)\n",
    "y50 = np.random.randn(50)"
   ]
  },
  {
   "cell_type": "code",
   "execution_count": 9,
   "metadata": {},
   "outputs": [
    {
     "name": "stdout",
     "output_type": "stream",
     "text": [
      "0.0005437999999999832\n"
     ]
    }
   ],
   "source": [
    "# Подсчитываем скорость выполнения расчетов для наивного скалярного произведения векторов\n",
    "\n",
    "timePythonFifty = timeit.timeit('''def naive_vector_dot(x50,y50):\n",
    "    assert len(x50.shape) == 1\n",
    "    assert len(y50.shape) == 1\n",
    "    result = 0\n",
    "    for e,f in zip(x50,y50):\n",
    "        result += e*f\n",
    "    return result''', number=10000)\n",
    "print(timePythonFifty)"
   ]
  },
  {
   "cell_type": "code",
   "execution_count": 10,
   "metadata": {},
   "outputs": [
    {
     "name": "stdout",
     "output_type": "stream",
     "text": [
      "0.0005565999999999072\n"
     ]
    }
   ],
   "source": [
    "# Подсчитываем скорость выполнения расчетов для скалярного произведения векторов через NumPy\n",
    "\n",
    "timeNumPyFifty = timeit.timeit('''def vector_numpy(x50,y50):\n",
    "    assert len(x50.shape) == 1\n",
    "    assert len(y50.shape) == 1\n",
    "    return np.dot(x50,y50)''', number=10000)\n",
    "print(timeNumPyFifty)"
   ]
  },
  {
   "cell_type": "code",
   "execution_count": 11,
   "metadata": {},
   "outputs": [],
   "source": [
    "# Создаем по 100 случайных значений\n",
    "\n",
    "x100 = np.random.randn(100)\n",
    "y100 = np.random.randn(100)"
   ]
  },
  {
   "cell_type": "code",
   "execution_count": 12,
   "metadata": {},
   "outputs": [
    {
     "name": "stdout",
     "output_type": "stream",
     "text": [
      "0.0005672999999999373\n"
     ]
    }
   ],
   "source": [
    "# Подсчитываем скорость выполнения расчетов для наивного скалярного произведения векторов\n",
    "\n",
    "timePythonHundred = timeit.timeit('''def naive_vector_dot(x100,y100):\n",
    "    assert len(x100.shape) == 1\n",
    "    assert len(y100.shape) == 1\n",
    "    result = 0\n",
    "    for e,f in zip(x100,y100):\n",
    "        result += e*f\n",
    "    return result''', number=10000)\n",
    "print(timePythonHundred)"
   ]
  },
  {
   "cell_type": "code",
   "execution_count": 13,
   "metadata": {},
   "outputs": [
    {
     "name": "stdout",
     "output_type": "stream",
     "text": [
      "0.0005619000000001151\n"
     ]
    }
   ],
   "source": [
    "# Подсчитываем скорость выполнения расчетов для скалярного произведения векторов через NumPy\n",
    "\n",
    "timeNumPyHundred = timeit.timeit('''def vector_numpy(x100,y100):\n",
    "    assert len(x100.shape) == 1\n",
    "    assert len(y100.shape) == 1\n",
    "    return np.dot(x100,y100)''', number=10000)\n",
    "print(timeNumPyHundred)"
   ]
  },
  {
   "cell_type": "code",
   "execution_count": 14,
   "metadata": {},
   "outputs": [],
   "source": [
    "# Создаем переменне длинны вектора\n",
    "\n",
    "lengthTen = 10\n",
    "lengthFifty = 50\n",
    "lengthHundred = 100"
   ]
  },
  {
   "cell_type": "code",
   "execution_count": 15,
   "metadata": {},
   "outputs": [],
   "source": [
    "# Формируем значения в массивы для построения\n",
    "\n",
    "graphPython = np.array([timePythonTen, timePythonFifty, timePythonHundred])\n",
    "graphX = np.array([lengthTen, lengthFifty, lengthHundred])\n",
    "graphNumPy = np.array([timeNumPyTen, timeNumPyFifty, timeNumPyHundred])"
   ]
  },
  {
   "cell_type": "code",
   "execution_count": 16,
   "metadata": {},
   "outputs": [
    {
     "data": {
      "text/plain": [
       "<matplotlib.legend.Legend at 0x1a8ea5de508>"
      ]
     },
     "execution_count": 16,
     "metadata": {},
     "output_type": "execute_result"
    },
    {
     "data": {
      "image/png": "[encoded data removed]",
      "text/plain": [
       "<Figure size 432x288 with 1 Axes>"
      ]
     },
     "metadata": {
      "needs_background": "light"
     },
     "output_type": "display_data"
    }
   ],
   "source": [
    "# Строим график\n",
    "\n",
    "# Название графика\n",
    "plt.title(\"Сравнение скорости выполнения\")\n",
    "\n",
    "# Название оси абсцисс\n",
    "plt.xlabel(\"Длина вектора\")\n",
    "\n",
    "# Название оси ординат\n",
    "plt.ylabel(\"Время выполнения\")\n",
    "\n",
    "# Включение отображения сетки\n",
    "plt.grid()\n",
    "plt.plot(graphX, graphPython, 'ro-', label=\"Python\")\n",
    "plt.plot(graphX, graphNumPy, 'bo-', label=\"NumPy\")\n",
    "\n",
    "# Включение отображения легенды с лучшим расположением\n",
    "plt.legend(loc=\"best\")"
   ]
  },
  {
   "cell_type": "code",
   "execution_count": 17,
   "metadata": {},
   "outputs": [],
   "source": [
    "time = timePythonTen, timeNumPyTen, timePythonFifty, timeNumPyFifty, timePythonHundred, timeNumPyHundred"
   ]
  },
  {
   "cell_type": "code",
   "execution_count": 18,
   "metadata": {},
   "outputs": [],
   "source": [
    "length = lengthTen, lengthTen, lengthFifty, lengthFifty, lengthHundred, lengthHundred"
   ]
  },
  {
   "cell_type": "code",
   "execution_count": 19,
   "metadata": {},
   "outputs": [
    {
     "data": {
      "text/html": [
       "<div>\n",
       "<style scoped>\n",
       "    .dataframe tbody tr th:only-of-type {\n",
       "        vertical-align: middle;\n",
       "    }\n",
       "\n",
       "    .dataframe tbody tr th {\n",
       "        vertical-align: top;\n",
       "    }\n",
       "\n",
       "    .dataframe thead th {\n",
       "        text-align: right;\n",
       "    }\n",
       "</style>\n",
       "<table border=\"1\" class=\"dataframe\">\n",
       "  <thead>\n",
       "    <tr style=\"text-align: right;\">\n",
       "      <th></th>\n",
       "      <th>length</th>\n",
       "      <th>time</th>\n",
       "    </tr>\n",
       "  </thead>\n",
       "  <tbody>\n",
       "    <tr>\n",
       "      <th>0</th>\n",
       "      <td>10</td>\n",
       "      <td>0.000581</td>\n",
       "    </tr>\n",
       "    <tr>\n",
       "      <th>1</th>\n",
       "      <td>10</td>\n",
       "      <td>0.000634</td>\n",
       "    </tr>\n",
       "    <tr>\n",
       "      <th>2</th>\n",
       "      <td>50</td>\n",
       "      <td>0.000544</td>\n",
       "    </tr>\n",
       "    <tr>\n",
       "      <th>3</th>\n",
       "      <td>50</td>\n",
       "      <td>0.000557</td>\n",
       "    </tr>\n",
       "    <tr>\n",
       "      <th>4</th>\n",
       "      <td>100</td>\n",
       "      <td>0.000567</td>\n",
       "    </tr>\n",
       "    <tr>\n",
       "      <th>5</th>\n",
       "      <td>100</td>\n",
       "      <td>0.000562</td>\n",
       "    </tr>\n",
       "  </tbody>\n",
       "</table>\n",
       "</div>"
      ],
      "text/plain": [
       "   length      time\n",
       "0      10  0.000581\n",
       "1      10  0.000634\n",
       "2      50  0.000544\n",
       "3      50  0.000557\n",
       "4     100  0.000567\n",
       "5     100  0.000562"
      ]
     },
     "execution_count": 19,
     "metadata": {},
     "output_type": "execute_result"
    }
   ],
   "source": [
    "# Строим таблицу\n",
    "\n",
    "signal_dict = {\n",
    "    \"length\": length,\n",
    "    \"time\": time,\n",
    "}\n",
    "signal_df = pd.DataFrame(signal_dict)\n",
    "\n",
    "signal_df.head(6)"
   ]
  },
  {
   "cell_type": "code",
   "execution_count": null,
   "metadata": {},
   "outputs": [],
   "source": []
  }
 ],
 "metadata": {
  "kernelspec": {
   "display_name": "Python 3",
   "language": "python",
   "name": "python3"
  },
  "language_info": {
   "codemirror_mode": {
    "name": "ipython",
    "version": 3
   },
   "file_extension": ".py",
   "mimetype": "text/x-python",
   "name": "python",
   "nbconvert_exporter": "python",
   "pygments_lexer": "ipython3",
   "version": "3.7.6"
  }
 },
 "nbformat": 4,
 "nbformat_minor": 4
}
